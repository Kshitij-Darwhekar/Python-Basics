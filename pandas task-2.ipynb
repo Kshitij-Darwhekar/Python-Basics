{
 "cells": [
  {
   "cell_type": "code",
   "execution_count": 6,
   "id": "f9f17ee6",
   "metadata": {},
   "outputs": [],
   "source": [
    "import pandas as pd\n",
    "import numpy as np\n",
    "from numpy.random import randn"
   ]
  },
  {
   "cell_type": "code",
   "execution_count": null,
   "id": "2dc66861",
   "metadata": {},
   "outputs": [],
   "source": [
    "def df(nrow, ncol):\n",
    "    names = ['s' + str(x) for x in range(0,ncol)]\n",
    "    out = np.random.randn(nrow,ncol)\n",
    "    df = pd.DataFrame(out)\n",
    "    df.columns = names\n",
    "    return df"
   ]
  },
  {
   "cell_type": "code",
   "execution_count": null,
   "id": "4df3d00c",
   "metadata": {},
   "outputs": [],
   "source": [
    "x = df(5,4)\n",
    "x"
   ]
  },
  {
   "cell_type": "code",
   "execution_count": 2,
   "id": "5a6437ca",
   "metadata": {},
   "outputs": [],
   "source": [
    "path = 'C:\\\\Users\\\\MSI\\\\Desktop\\\\DS using R\\\\New folder\\\\'"
   ]
  },
  {
   "cell_type": "code",
   "execution_count": 8,
   "id": "82642da4",
   "metadata": {},
   "outputs": [
    {
     "name": "stdout",
     "output_type": "stream",
     "text": [
      "Empty DataFrame\n",
      "Columns: []\n",
      "Index: []\n"
     ]
    }
   ],
   "source": [
    "df = pd.DataFrame()\n",
    "print(df)"
   ]
  },
  {
   "cell_type": "code",
   "execution_count": 9,
   "id": "89da07f0",
   "metadata": {},
   "outputs": [
    {
     "name": "stdout",
     "output_type": "stream",
     "text": [
      "     A    B    C\n",
      "0  NaN  NaN  NaN\n",
      "1  NaN  NaN  NaN\n",
      "2  NaN  NaN  NaN\n",
      "3  NaN  NaN  NaN\n"
     ]
    }
   ],
   "source": [
    "df = pd.DataFrame(columns=['A','B','C'], index=[0,1,2,3])\n",
    "print(df)"
   ]
  },
  {
   "cell_type": "code",
   "execution_count": 11,
   "id": "ea076f07",
   "metadata": {},
   "outputs": [
    {
     "data": {
      "text/html": [
       "<div>\n",
       "<style scoped>\n",
       "    .dataframe tbody tr th:only-of-type {\n",
       "        vertical-align: middle;\n",
       "    }\n",
       "\n",
       "    .dataframe tbody tr th {\n",
       "        vertical-align: top;\n",
       "    }\n",
       "\n",
       "    .dataframe thead th {\n",
       "        text-align: right;\n",
       "    }\n",
       "</style>\n",
       "<table border=\"1\" class=\"dataframe\">\n",
       "  <thead>\n",
       "    <tr style=\"text-align: right;\">\n",
       "      <th></th>\n",
       "      <th>A</th>\n",
       "      <th>B</th>\n",
       "      <th>C</th>\n",
       "    </tr>\n",
       "  </thead>\n",
       "  <tbody>\n",
       "    <tr>\n",
       "      <th>0</th>\n",
       "      <td>0.132777</td>\n",
       "      <td>0.739013</td>\n",
       "      <td>-1.460030</td>\n",
       "    </tr>\n",
       "    <tr>\n",
       "      <th>1</th>\n",
       "      <td>-0.952124</td>\n",
       "      <td>0.879234</td>\n",
       "      <td>-0.430066</td>\n",
       "    </tr>\n",
       "    <tr>\n",
       "      <th>2</th>\n",
       "      <td>-0.087089</td>\n",
       "      <td>0.272980</td>\n",
       "      <td>0.419549</td>\n",
       "    </tr>\n",
       "    <tr>\n",
       "      <th>3</th>\n",
       "      <td>0.109759</td>\n",
       "      <td>0.337269</td>\n",
       "      <td>-0.651151</td>\n",
       "    </tr>\n",
       "  </tbody>\n",
       "</table>\n",
       "</div>"
      ],
      "text/plain": [
       "          A         B         C\n",
       "0  0.132777  0.739013 -1.460030\n",
       "1 -0.952124  0.879234 -0.430066\n",
       "2 -0.087089  0.272980  0.419549\n",
       "3  0.109759  0.337269 -0.651151"
      ]
     },
     "execution_count": 11,
     "metadata": {},
     "output_type": "execute_result"
    }
   ],
   "source": [
    "df = pd.DataFrame(randn(4,3), columns=['A','B','C'], index=[0,1,2,3])\n",
    "df"
   ]
  },
  {
   "cell_type": "code",
   "execution_count": 4,
   "id": "c309be3e",
   "metadata": {},
   "outputs": [],
   "source": [
    "df.to_csv(path+'x1.csv', index=False)"
   ]
  },
  {
   "cell_type": "code",
   "execution_count": 14,
   "id": "3173985a",
   "metadata": {},
   "outputs": [],
   "source": [
    "def file_generator(n,t):\n",
    "    \"\"\"\n",
    "    n = number of files\n",
    "    t = type of file (.csv,.txt,.xlsx)\n",
    "    \"\"\"\n",
    "    for i in range(0,n):\n",
    "        df = pd.DataFrame(randn(4,3), columns=['A','B','C'], index=[0,1,2,3])\n",
    "        if t == '.csv':\n",
    "            df.to_csv(path+'x'+str(i)+'.csv')    "
   ]
  },
  {
   "cell_type": "code",
   "execution_count": 18,
   "id": "86f7d584",
   "metadata": {},
   "outputs": [],
   "source": [
    "file_generator(1000,'.txt')"
   ]
  },
  {
   "cell_type": "code",
   "execution_count": null,
   "id": "095644c9",
   "metadata": {},
   "outputs": [],
   "source": []
  }
 ],
 "metadata": {
  "kernelspec": {
   "display_name": "Python 3",
   "language": "python",
   "name": "python3"
  },
  "language_info": {
   "codemirror_mode": {
    "name": "ipython",
    "version": 3
   },
   "file_extension": ".py",
   "mimetype": "text/x-python",
   "name": "python",
   "nbconvert_exporter": "python",
   "pygments_lexer": "ipython3",
   "version": "3.8.5"
  }
 },
 "nbformat": 4,
 "nbformat_minor": 5
}
