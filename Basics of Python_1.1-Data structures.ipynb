{
 "cells": [
  {
   "cell_type": "markdown",
   "metadata": {},
   "source": [
    "# Data Structures\n",
    "There are four collection data types in the Python programming language\n",
    "- Lists\n",
    "- Tuples\n",
    "- Sets\n",
    "- Dictionaries"
   ]
  },
  {
   "cell_type": "markdown",
   "metadata": {},
   "source": [
    "## Python Lists\n",
    "A list is a collection which is ordered and changeable. \n",
    "In Python lists are written with square brackets."
   ]
  },
  {
   "cell_type": "code",
   "execution_count": null,
   "metadata": {},
   "outputs": [],
   "source": [
    "names = ['Kunal', 'Arjun', 'Priya','Kishor','Anu']\n",
    "print(names)\n",
    "print(type(names))"
   ]
  },
  {
   "cell_type": "code",
   "execution_count": null,
   "metadata": {},
   "outputs": [],
   "source": [
    "x = [1,5,8,'Kunal']\n",
    "type(x)"
   ]
  },
  {
   "cell_type": "code",
   "execution_count": null,
   "metadata": {},
   "outputs": [],
   "source": [
    "type('Kunal')"
   ]
  },
  {
   "cell_type": "code",
   "execution_count": null,
   "metadata": {},
   "outputs": [],
   "source": [
    "# Access items\n",
    "print(names[0])\n",
    "print(names[2:])\n",
    "print(names[:2])\n",
    "print(names[1:3])"
   ]
  },
  {
   "cell_type": "code",
   "execution_count": null,
   "metadata": {},
   "outputs": [],
   "source": [
    "type(names[0])"
   ]
  },
  {
   "cell_type": "code",
   "execution_count": null,
   "metadata": {},
   "outputs": [],
   "source": [
    "names"
   ]
  },
  {
   "cell_type": "code",
   "execution_count": null,
   "metadata": {},
   "outputs": [],
   "source": [
    "# Negative index\n",
    "print(names[-1])\n",
    "print(names[-2:])\n",
    "print(names[:-2])\n",
    "print(names[-3:-1])"
   ]
  },
  {
   "cell_type": "code",
   "execution_count": null,
   "metadata": {},
   "outputs": [],
   "source": [
    "names[3:-4]"
   ]
  },
  {
   "cell_type": "code",
   "execution_count": null,
   "metadata": {},
   "outputs": [],
   "source": [
    "# Change item in list\n",
    "print(names)\n",
    "names[3]=\"Vijay\"\n",
    "print(names)"
   ]
  },
  {
   "cell_type": "code",
   "execution_count": null,
   "metadata": {},
   "outputs": [],
   "source": [
    "# Looping through lists\n",
    "for j in names:\n",
    "    print(\"Iterator now has value {}\".format(j))"
   ]
  },
  {
   "cell_type": "code",
   "execution_count": null,
   "metadata": {},
   "outputs": [],
   "source": [
    "# Nested list\n",
    "mylist=[1,2,3,['a','b',[5,6]]]\n",
    "print(mylist)"
   ]
  },
  {
   "cell_type": "code",
   "execution_count": null,
   "metadata": {},
   "outputs": [],
   "source": [
    "type(mylist)"
   ]
  },
  {
   "cell_type": "code",
   "execution_count": null,
   "metadata": {},
   "outputs": [],
   "source": [
    "mylist[3][2][0]"
   ]
  },
  {
   "cell_type": "markdown",
   "metadata": {},
   "source": [
    "## Methods \n",
    "- append(): Adds an element at the end of the list\n",
    "- clear(): Removes all the elements from the list\n",
    "- copy(): Returns a copy of the list\n",
    "- count(): Returns the number of elements with the specified value\n",
    "- del : Delete list\n",
    "- extend(): Add the elements of a list (or any iterable), to the end of the current list\n",
    "- index(): Returns the index of the first element with the specified value\n",
    "- insert():\tAdds an element at the specified position\n",
    "- len(): Length of list\n",
    "- list(): Copies list from given list\n",
    "- pop(): Removes the element at the specified position\n",
    "- remove():\tRemoves the item with the specified value\n",
    "- reverse(): Reverses the order of the list\n",
    "- sort(): Sorts the list"
   ]
  },
  {
   "cell_type": "code",
   "execution_count": null,
   "metadata": {},
   "outputs": [],
   "source": [
    "# append(): Adds an element at the end of the list\n",
    "print(names)\n",
    "names.append(\"Kumar\")\n",
    "print(names)"
   ]
  },
  {
   "cell_type": "code",
   "execution_count": null,
   "metadata": {},
   "outputs": [],
   "source": [
    "# clear(): Removes all the elements from the list\n",
    "names.clear()\n",
    "print(names)"
   ]
  },
  {
   "cell_type": "code",
   "execution_count": null,
   "metadata": {},
   "outputs": [],
   "source": [
    "# copy(): Returns a copy of the list\n",
    "names = ['Kunal', 'Arjun', 'Priya','Kishor','Anu']\n",
    "Names=names.copy()\n",
    "print(Names)"
   ]
  },
  {
   "cell_type": "code",
   "execution_count": null,
   "metadata": {},
   "outputs": [],
   "source": [
    "# count(): Returns the number of elements with the specified value\n",
    "names.append(\"Kunal\")\n",
    "x=names.count('Kunal')\n",
    "print(x)"
   ]
  },
  {
   "cell_type": "code",
   "execution_count": null,
   "metadata": {},
   "outputs": [],
   "source": [
    "names"
   ]
  },
  {
   "cell_type": "code",
   "execution_count": null,
   "metadata": {},
   "outputs": [],
   "source": [
    "# del : Delete list\n",
    "del Names\n",
    "print(Names)"
   ]
  },
  {
   "cell_type": "code",
   "execution_count": null,
   "metadata": {},
   "outputs": [],
   "source": [
    "# extend(): Add the elements of a list (or any iterable), \n",
    "# to the end of the current list\n",
    "print(names)\n",
    "cars = ['Ford', 'BMW', 'Volvo']\n",
    "names.extend(cars)\n",
    "print(names)"
   ]
  },
  {
   "cell_type": "code",
   "execution_count": null,
   "metadata": {},
   "outputs": [],
   "source": [
    "# index(): Returns the index of the first element with the specified value\n",
    "x=names.index('Ford')\n",
    "x"
   ]
  },
  {
   "cell_type": "code",
   "execution_count": null,
   "metadata": {},
   "outputs": [],
   "source": [
    "# insert():Adds an element at the specified position\n",
    "names.insert(2,'Audi')\n",
    "print(names)"
   ]
  },
  {
   "cell_type": "code",
   "execution_count": null,
   "metadata": {},
   "outputs": [],
   "source": [
    "# len(): Length of list\n",
    "print(len(names))"
   ]
  },
  {
   "cell_type": "code",
   "execution_count": null,
   "metadata": {},
   "outputs": [],
   "source": [
    "df = list(('Ford',)) # df = ['ford','audi']\n",
    "df"
   ]
  },
  {
   "cell_type": "code",
   "execution_count": null,
   "metadata": {},
   "outputs": [],
   "source": [
    "#df = list('Ford')\n",
    "df = ['Ford']\n",
    "df"
   ]
  },
  {
   "cell_type": "code",
   "execution_count": null,
   "metadata": {},
   "outputs": [],
   "source": [
    "# list(): Creats list from given inputs\n",
    "new_list=list(('Audi',\"BMW\",'Ford'))\n",
    "print(new_list)"
   ]
  },
  {
   "cell_type": "code",
   "execution_count": null,
   "metadata": {},
   "outputs": [],
   "source": [
    "print(names)"
   ]
  },
  {
   "cell_type": "code",
   "execution_count": null,
   "metadata": {},
   "outputs": [],
   "source": [
    "# pop(): Removes the element at the specified position\n",
    "names.pop(5)\n",
    "#print(names.pop(5))\n",
    "print(names)\n",
    "#names.pop(2)\n",
    "#print(names)"
   ]
  },
  {
   "cell_type": "code",
   "execution_count": null,
   "metadata": {},
   "outputs": [],
   "source": [
    "names.pop()\n",
    "print(names)"
   ]
  },
  {
   "cell_type": "code",
   "execution_count": null,
   "metadata": {},
   "outputs": [],
   "source": [
    "# remove(): Removes the item with the specified value\n",
    "names.append('Delhi')\n",
    "print(names)"
   ]
  },
  {
   "cell_type": "code",
   "execution_count": null,
   "metadata": {},
   "outputs": [],
   "source": [
    "names.remove('Audi')\n",
    "print(names)"
   ]
  },
  {
   "cell_type": "code",
   "execution_count": null,
   "metadata": {},
   "outputs": [],
   "source": [
    "#names = ['Kunal', 'Arjun', 'Priya', 'Kishor', 'Kunal', 'Ford', 'BMW']\n",
    "to_remove = ['Kunal', 'Ford']\n",
    "for i in to_remove:\n",
    "    names.remove(i)\n",
    "names"
   ]
  },
  {
   "cell_type": "code",
   "execution_count": null,
   "metadata": {},
   "outputs": [],
   "source": [
    "#names.extend(['Kunal']*5)"
   ]
  },
  {
   "cell_type": "code",
   "execution_count": null,
   "metadata": {},
   "outputs": [],
   "source": [
    "names"
   ]
  },
  {
   "cell_type": "code",
   "execution_count": null,
   "metadata": {},
   "outputs": [],
   "source": [
    "# reverse(): Reverses the order of the list\n",
    "names.reverse()\n",
    "print(names)"
   ]
  },
  {
   "cell_type": "code",
   "execution_count": null,
   "metadata": {},
   "outputs": [],
   "source": [
    "names"
   ]
  },
  {
   "cell_type": "code",
   "execution_count": null,
   "metadata": {},
   "outputs": [],
   "source": [
    "# sort(): Sorts the list\n",
    "names.sort()\n",
    "print(names)"
   ]
  },
  {
   "cell_type": "code",
   "execution_count": null,
   "metadata": {},
   "outputs": [],
   "source": [
    "names.sort(reverse = True)\n",
    "names"
   ]
  },
  {
   "cell_type": "markdown",
   "metadata": {},
   "source": [
    "## Tuples\n",
    "A tuple is a collection which is ordered and unchangeable. \n",
    "In Python tuples are written with round brackets."
   ]
  },
  {
   "cell_type": "code",
   "execution_count": null,
   "metadata": {},
   "outputs": [],
   "source": [
    "t1=(1,5,8,3,10,3)\n",
    "t2=('Kunal', 'Arjun', 'Priya','Kishor','Anu')\n",
    "print(t1,\"\\n\")\n",
    "print(t2)"
   ]
  },
  {
   "cell_type": "code",
   "execution_count": null,
   "metadata": {},
   "outputs": [],
   "source": [
    "# Access elements\n",
    "print(t1[0])\n",
    "print(t1[2:])\n",
    "print(t1[:3])"
   ]
  },
  {
   "cell_type": "code",
   "execution_count": null,
   "metadata": {},
   "outputs": [],
   "source": [
    "type(t1[0:3])"
   ]
  },
  {
   "cell_type": "code",
   "execution_count": null,
   "metadata": {},
   "outputs": [],
   "source": [
    "# Negative index\n",
    "print(t1[-1])\n",
    "print(t1[-4:])\n",
    "print(t1[:-3])"
   ]
  },
  {
   "cell_type": "code",
   "execution_count": null,
   "metadata": {},
   "outputs": [],
   "source": [
    "# Change tuple values\n",
    "print(t1)\n",
    "t1[0]=99"
   ]
  },
  {
   "cell_type": "markdown",
   "metadata": {},
   "source": [
    "Tuples are not interchangable. So no additional element can be added or removed. Try..."
   ]
  },
  {
   "cell_type": "code",
   "execution_count": null,
   "metadata": {},
   "outputs": [],
   "source": [
    "# Looping through tuple\n",
    "for j in t1:\n",
    "    print('The iterator now has value = {}'.format(j))"
   ]
  },
  {
   "cell_type": "code",
   "execution_count": null,
   "metadata": {},
   "outputs": [],
   "source": [
    "print('Kunal' in t2)"
   ]
  },
  {
   "cell_type": "code",
   "execution_count": null,
   "metadata": {},
   "outputs": [],
   "source": [
    "# Check if 'Kunal' in t2\n",
    "if \"Kunal\" in t2:\n",
    "    print(\"Kunal is listed in t2\")"
   ]
  },
  {
   "cell_type": "code",
   "execution_count": null,
   "metadata": {},
   "outputs": [],
   "source": [
    "# tuple with one item\n",
    "T1=(\"Hi\",)\n",
    "print(type(T1))\n",
    "T2=(\"Hi\")\n",
    "print(type(T2))"
   ]
  },
  {
   "cell_type": "markdown",
   "metadata": {},
   "source": [
    "## Methods \n",
    "- tuple(): Creates tuple with elements specified.\n",
    "- len(): Gives length of tuple, no. of elements in tuple.\n",
    "- t1 + t2 : Adds two tuples\n",
    "- del(): Deletes tuple\n",
    "- count(): Returns the number of times a specified value occurs in a tuple.\n",
    "- index(): Searches the tuple for a specified value and returns the position of where it was found."
   ]
  },
  {
   "cell_type": "code",
   "execution_count": null,
   "metadata": {},
   "outputs": [],
   "source": [
    "# tuple(): Creates tuple with elements specified.\n",
    "t=tuple((0,2,4,6,0,2,2,5,2,0,2,3,4))\n",
    "print(t)\n",
    "print(type(t))"
   ]
  },
  {
   "cell_type": "code",
   "execution_count": null,
   "metadata": {},
   "outputs": [],
   "source": [
    "# len(): Gives length of tuple, no. of elements in tuple.\n",
    "len(t)"
   ]
  },
  {
   "cell_type": "code",
   "execution_count": null,
   "metadata": {},
   "outputs": [],
   "source": [
    "# t1 + t2 : Adds two tuples\n",
    "t + t1"
   ]
  },
  {
   "cell_type": "code",
   "execution_count": null,
   "metadata": {},
   "outputs": [],
   "source": [
    "#time_laptop = [3,4,3,5,5,4,6]\n",
    "#time_mobile = [1,2,1,1,1,2,2]\n",
    "#time_laptop + time_mobile"
   ]
  },
  {
   "cell_type": "code",
   "execution_count": null,
   "metadata": {},
   "outputs": [],
   "source": [
    "# del(): Deletes tuple\n",
    "print(T1)\n",
    "del T1\n",
    "print(T1)"
   ]
  },
  {
   "cell_type": "code",
   "execution_count": null,
   "metadata": {},
   "outputs": [],
   "source": [
    "# count(): Returns the number of times a specified value occurs in a tuple.\n",
    "t.count(2)"
   ]
  },
  {
   "cell_type": "code",
   "execution_count": null,
   "metadata": {},
   "outputs": [],
   "source": [
    "# index(): Searches the tuple for a specified value and returns the position of where it was found.\n",
    "t.index(2)"
   ]
  },
  {
   "cell_type": "code",
   "execution_count": null,
   "metadata": {},
   "outputs": [],
   "source": [
    "t = (1,2,5,'a','b', (1,'c'))\n",
    "print(t)"
   ]
  },
  {
   "cell_type": "code",
   "execution_count": null,
   "metadata": {},
   "outputs": [],
   "source": [
    "print(t[4])\n",
    "print(type(t[4]))"
   ]
  },
  {
   "cell_type": "markdown",
   "metadata": {},
   "source": [
    "## Sets\n",
    "A set is a collection which is unordered and unindexed. \n",
    "In Python sets are written with curly brackets."
   ]
  },
  {
   "cell_type": "code",
   "execution_count": null,
   "metadata": {},
   "outputs": [],
   "source": [
    "set1={1,3,8,9,4,3,5,2,1}\n",
    "print(set1,\"\\n\")\n",
    "set2={'A','C','D','A','X'}\n",
    "print(set2)"
   ]
  },
  {
   "cell_type": "code",
   "execution_count": null,
   "metadata": {},
   "outputs": [],
   "source": [
    "set2={'A','D','C','X'}\n",
    "print(set2)"
   ]
  },
  {
   "cell_type": "code",
   "execution_count": null,
   "metadata": {},
   "outputs": [],
   "source": [
    "# Access items\n",
    "# You cannot access items in a set by referring to an index, \n",
    "# since sets are unordered the items has no index.\n",
    "set1[3]"
   ]
  },
  {
   "cell_type": "code",
   "execution_count": null,
   "metadata": {},
   "outputs": [],
   "source": [
    "# Access items\n",
    "# loop through the set items using a for loop\n",
    "for j in set1:\n",
    "    print(j)"
   ]
  },
  {
   "cell_type": "code",
   "execution_count": null,
   "metadata": {},
   "outputs": [],
   "source": [
    "print('D' in set2)"
   ]
  },
  {
   "cell_type": "markdown",
   "metadata": {},
   "source": [
    "## Methods\n",
    "- add(): Adds an element to the set\n",
    "- clear(): Removes all the elements from the set\n",
    "- copy(): Returns a copy of the set\n",
    "- difference(): Returns a set containing the difference between two or more sets\n",
    "- difference_update(): Removes the items in this set that are also included in another, specified set\n",
    "- discard(): Remove the specified item\n",
    "- intersection(): Returns a set, that is the intersection of two other sets\n",
    "- intersection_update(): Removes the items in this set that are not present in other, specified set(s)\n",
    "- isdisjoint(): Returns whether two sets have a intersection or not\n",
    "- issubset(): Returns whether another set contains this set or not\n",
    "- issuperset(): Returns whether this set contains another set or not\n",
    "- len(): Finds length of set\n",
    "- pop(): Removes an element from the set\n",
    "- remove(): Removes the specified element\n",
    "- symmetric_difference(): Returns a set with the symmetric differences of two sets\n",
    "- symmetric_difference_update(): inserts the symmetric differences from this set and another\n",
    "- union(): Return a set containing the union of sets\n",
    "- update(): Update the set with the union of this set and others"
   ]
  },
  {
   "cell_type": "code",
   "execution_count": null,
   "metadata": {},
   "outputs": [],
   "source": [
    "# add(): Adds an element to the set\n",
    "print(set1)\n",
    "set1.add(12)\n",
    "print(set1)"
   ]
  },
  {
   "cell_type": "code",
   "execution_count": null,
   "metadata": {},
   "outputs": [],
   "source": [
    "# clear(): Removes all the elements from the set\n",
    "set1.clear()\n",
    "print(set1)"
   ]
  },
  {
   "cell_type": "code",
   "execution_count": null,
   "metadata": {},
   "outputs": [],
   "source": [
    "# copy(): Returns a copy of the set\n",
    "set1=set2.copy()\n",
    "print(set1)"
   ]
  },
  {
   "cell_type": "code",
   "execution_count": null,
   "metadata": {},
   "outputs": [],
   "source": [
    "# difference(): Returns a set containing the difference between two or more sets\n",
    "x = {\"apple\", \"banana\", \"cherry\"}\n",
    "y = {\"samsung\", \"mi\", \"apple\"}\n",
    "\n",
    "z = x.difference(y)\n",
    "print(z)"
   ]
  },
  {
   "cell_type": "code",
   "execution_count": null,
   "metadata": {},
   "outputs": [],
   "source": [
    "# difference_update(): Removes the items in this set that are also included in another, specified set\n",
    "x = {\"apple\", \"banana\", \"cherry\"}\n",
    "y = {\"samsung\", \"mi\", \"apple\"}\n",
    "\n",
    "x.difference_update(y)\n",
    "print(x)"
   ]
  },
  {
   "cell_type": "code",
   "execution_count": null,
   "metadata": {},
   "outputs": [],
   "source": [
    "y"
   ]
  },
  {
   "cell_type": "code",
   "execution_count": null,
   "metadata": {},
   "outputs": [],
   "source": [
    "# discard(): Remove the specified item\n",
    "print(set1)\n",
    "set1.discard('X')\n",
    "print(set1)"
   ]
  },
  {
   "cell_type": "code",
   "execution_count": null,
   "metadata": {},
   "outputs": [],
   "source": [
    "# intersection(): Returns a set, that is the intersection of two other sets\n",
    "x = {\"apple\", \"banana\", \"cherry\"}\n",
    "y = {\"samsung\", \"mi\", \"apple\"}\n",
    "\n",
    "z = x.intersection(y)\n",
    "print(z)"
   ]
  },
  {
   "cell_type": "code",
   "execution_count": null,
   "metadata": {},
   "outputs": [],
   "source": [
    "# intersection_update(): Removes the items in this set that are not present in other, specified set(s)\n",
    "x = {\"apple\", \"banana\", \"cherry\"}\n",
    "y = {\"samsung\", \"mi\", \"apple\"}\n",
    "\n",
    "x.intersection_update(y)\n",
    "print(x)\n",
    "print(y)"
   ]
  },
  {
   "cell_type": "code",
   "execution_count": null,
   "metadata": {},
   "outputs": [],
   "source": [
    "# isdisjoint(): Returns whether two sets have a intersection or not\n",
    "x = {\"apple\", \"banana\", \"cherry\"}\n",
    "y = {\"samsung\", \"mi\", \"apple\"}\n",
    "\n",
    "z = x.isdisjoint(y)\n",
    "print(z)"
   ]
  },
  {
   "cell_type": "code",
   "execution_count": null,
   "metadata": {},
   "outputs": [],
   "source": [
    "# issubset(): Returns whether another set contains this set or not\n",
    "x = {\"apple\", \"banana\", \"cherry\"}\n",
    "y = {\"samsung\", \"mi\", \"apple\",'banana','cherry'}\n",
    "\n",
    "z = x.issubset(y)\n",
    "print(z)"
   ]
  },
  {
   "cell_type": "code",
   "execution_count": null,
   "metadata": {},
   "outputs": [],
   "source": [
    "# issuperset(): Returns whether this set contains another set or not\n",
    "x = {\"apple\", \"banana\", \"cherry\"}\n",
    "y = {\"samsung\", \"mi\", \"apple\",'banana','cherry'}\n",
    "\n",
    "z = y.issuperset(x)\n",
    "print(z)"
   ]
  },
  {
   "cell_type": "code",
   "execution_count": null,
   "metadata": {},
   "outputs": [],
   "source": [
    "# len(): Finds length of set\n",
    "len(y)"
   ]
  },
  {
   "cell_type": "code",
   "execution_count": null,
   "metadata": {},
   "outputs": [],
   "source": [
    "# pop(): Removes an element from the set and returns the removed value.\n",
    "x = { \"banana\",\"apple\",\"cherry\"}\n",
    "print(x)\n",
    "print(x.pop())\n",
    "print(x)"
   ]
  },
  {
   "cell_type": "code",
   "execution_count": null,
   "metadata": {},
   "outputs": [],
   "source": [
    "#x = {\"apple\", \"banana\", \"cherry\"}\n",
    "#print(x)"
   ]
  },
  {
   "cell_type": "code",
   "execution_count": null,
   "metadata": {},
   "outputs": [],
   "source": [
    "# remove(): Removes the specified element\n",
    "y={'samsung', 'apple', 'mi'}\n",
    "print(y)\n",
    "y.remove('mi')\n",
    "#y.remove('MI')\n",
    "#y.discard('MI')\n",
    "print(y)"
   ]
  },
  {
   "cell_type": "code",
   "execution_count": null,
   "metadata": {},
   "outputs": [],
   "source": [
    "# symmetric_difference(): Returns a set with the symmetric differences of two sets\n",
    "x = {\"apple\", \"banana\", \"cherry\"}\n",
    "y = {\"samsung\", \"mi\", \"apple\"}\n",
    "\n",
    "z = x.symmetric_difference(y)\n",
    "print(z)"
   ]
  },
  {
   "cell_type": "code",
   "execution_count": null,
   "metadata": {},
   "outputs": [],
   "source": [
    "# symmetric_difference_update(): inserts the symmetric differences from this set and another\n",
    "x = {\"apple\", \"banana\", \"cherry\"}\n",
    "y = {\"samsung\", \"mi\", \"apple\"}\n",
    "\n",
    "y.symmetric_difference_update(x)\n",
    "print(y)"
   ]
  },
  {
   "cell_type": "code",
   "execution_count": null,
   "metadata": {},
   "outputs": [],
   "source": [
    "# union(): Return a set containing the union of sets\n",
    "x = {\"apple\", \"banana\", \"cherry\"}\n",
    "y = {\"samsung\", \"mi\", \"apple\"}\n",
    "\n",
    "z=x.union(y)\n",
    "print(z)"
   ]
  },
  {
   "cell_type": "code",
   "execution_count": null,
   "metadata": {},
   "outputs": [],
   "source": [
    "# update(): Update the set with the union of this set and others\n",
    "x = {\"apple\", \"banana\", \"cherry\"}\n",
    "y = {\"samsung\", \"mi\", \"apple\"}\n",
    "\n",
    "x.update(y)\n",
    "print(x)\n",
    "print(y)"
   ]
  },
  {
   "cell_type": "markdown",
   "metadata": {},
   "source": [
    "# Dictionary\n",
    "A dictionary is a collection which is unordered, changeable and indexed. In Python dictionaries are written with curly brackets, and they have keys and values."
   ]
  },
  {
   "cell_type": "code",
   "execution_count": null,
   "metadata": {},
   "outputs": [],
   "source": [
    "lst = ['string',10]"
   ]
  },
  {
   "cell_type": "code",
   "execution_count": null,
   "metadata": {},
   "outputs": [],
   "source": [
    "d1={\"Name\": \"Ankit\",\"Class\": '12th','Roll No.': 25, 'Result': \"Pass\"}\n",
    "print(d1)"
   ]
  },
  {
   "cell_type": "code",
   "execution_count": null,
   "metadata": {},
   "outputs": [],
   "source": [
    "# Accessing Items\n",
    "# You can access the items of a dictionary by referring to its key name, inside square brackets.\n",
    "d1['Result']"
   ]
  },
  {
   "cell_type": "code",
   "execution_count": null,
   "metadata": {},
   "outputs": [],
   "source": [
    "# get() function\n",
    "d1.get('Result')"
   ]
  },
  {
   "cell_type": "code",
   "execution_count": null,
   "metadata": {},
   "outputs": [],
   "source": [
    "d1"
   ]
  },
  {
   "cell_type": "code",
   "execution_count": null,
   "metadata": {},
   "outputs": [],
   "source": [
    "# Change values\n",
    "d1['Name']='Aniket'\n",
    "print(d1)"
   ]
  },
  {
   "cell_type": "code",
   "execution_count": null,
   "metadata": {},
   "outputs": [],
   "source": [
    "# Looping through dictionary\n",
    "for j in d1:\n",
    "    print(j)"
   ]
  },
  {
   "cell_type": "code",
   "execution_count": null,
   "metadata": {},
   "outputs": [],
   "source": [
    "for j in d1:\n",
    "    print(d1[j])"
   ]
  },
  {
   "cell_type": "code",
   "execution_count": null,
   "metadata": {},
   "outputs": [],
   "source": [
    "# Extract keys\n",
    "d1.keys()\n",
    "print(d1.keys())"
   ]
  },
  {
   "cell_type": "code",
   "execution_count": null,
   "metadata": {},
   "outputs": [],
   "source": [
    "# Extract values\n",
    "d1.values()"
   ]
  },
  {
   "cell_type": "code",
   "execution_count": null,
   "metadata": {},
   "outputs": [],
   "source": [
    "# Extract keys and values both\n",
    "d1.items()"
   ]
  },
  {
   "cell_type": "code",
   "execution_count": null,
   "metadata": {},
   "outputs": [],
   "source": [
    "for k,v in d1.items():\n",
    "    print(k,v)"
   ]
  },
  {
   "cell_type": "code",
   "execution_count": null,
   "metadata": {},
   "outputs": [],
   "source": [
    "# Check existance of key\n",
    "print('Result' in d1,'\\n')\n",
    "\n",
    "if 'Name' in d1:\n",
    "    print('Name exists in disctionary')"
   ]
  },
  {
   "cell_type": "code",
   "execution_count": null,
   "metadata": {},
   "outputs": [],
   "source": [
    "# Nested dictionary\n",
    "myfamily = {\n",
    "  \"child1\" : {\n",
    "    \"name\" : \"kruti\",\n",
    "    \"year\" : 2004\n",
    "  },\n",
    "  \"child2\" : {\n",
    "    \"name\" : \"Akruti\",\n",
    "    \"year\" : 2007\n",
    "  },\n",
    "  \"child3\" : {\n",
    "    \"name\" : \"Sanskruti\",\n",
    "    \"year\" : 2011\n",
    "  }\n",
    "}\n",
    "print(myfamily)"
   ]
  },
  {
   "cell_type": "code",
   "execution_count": null,
   "metadata": {},
   "outputs": [],
   "source": [
    "child1 = { \"name\" : \"kruti\",\"year\" : 2004}\n",
    "child2 = {\"name\" : \"Akruti\",\"year\" : 2007}\n",
    "child3 = {\"name\" : \"Sanskruti\",\"year\" : 2011}\n",
    "\n",
    "myfamily = { \"child1\" : child1, \"child2\" : child2, \"child3\" : child3}\n",
    "\n",
    "print(myfamily)"
   ]
  },
  {
   "cell_type": "code",
   "execution_count": null,
   "metadata": {},
   "outputs": [],
   "source": [
    "d1['Class']"
   ]
  },
  {
   "cell_type": "code",
   "execution_count": null,
   "metadata": {},
   "outputs": [],
   "source": [
    "myfamily['child2']['year']"
   ]
  },
  {
   "cell_type": "code",
   "execution_count": null,
   "metadata": {},
   "outputs": [],
   "source": [
    "y = myfamily.keys()\n",
    "print(y)\n",
    "y = myfamily['child1'].keys()\n",
    "print(y)"
   ]
  },
  {
   "cell_type": "markdown",
   "metadata": {},
   "source": [
    "## Methods\n",
    "- clear(): Removes all the elements from the dictionary\n",
    "- copy(): Returns a copy of the dictionary\n",
    "- fromkeys(): Returns a dictionary with the specified keys and values\n",
    "- pop(): Removes the element with the specified key\n",
    "- popitem(): Removes the last inserted key-value pair\n",
    "- setdefault(): Returns the value of the specified key. If the key does not exist: insert the key, with the specified value\n",
    "- update(): Updates the dictionary with the specified key-value pairs"
   ]
  },
  {
   "cell_type": "code",
   "execution_count": null,
   "metadata": {},
   "outputs": [],
   "source": [
    "# clear(): Removes all the elements from the dictionary\n",
    "print(d1)\n",
    "d1.clear()\n",
    "print(d1)"
   ]
  },
  {
   "cell_type": "code",
   "execution_count": null,
   "metadata": {},
   "outputs": [],
   "source": [
    "# copy(): Returns a copy of the dictionary d2 = d1\n",
    "d1={'Name': 'Ankit', 'Class': '12th', 'Roll No.': 25, 'Result': 'Pass'}\n",
    "d3 = d1\n",
    "print(d3)\n",
    "D =d1.copy()\n",
    "print(D)"
   ]
  },
  {
   "cell_type": "code",
   "execution_count": null,
   "metadata": {},
   "outputs": [],
   "source": [
    "d3['Result'] = 'Fail'\n",
    "d3"
   ]
  },
  {
   "cell_type": "code",
   "execution_count": null,
   "metadata": {},
   "outputs": [],
   "source": [
    "d1"
   ]
  },
  {
   "cell_type": "code",
   "execution_count": null,
   "metadata": {},
   "outputs": [],
   "source": [
    "D['Result'] = 'Fail'\n",
    "D"
   ]
  },
  {
   "cell_type": "code",
   "execution_count": null,
   "metadata": {},
   "outputs": [],
   "source": [
    "d1"
   ]
  },
  {
   "cell_type": "code",
   "execution_count": null,
   "metadata": {},
   "outputs": [],
   "source": [
    "# fromkeys(): Returns a dictionary with the specified keys and values\n",
    "x = ('key1', 'key2', 'key3')\n",
    "y = ('A','B','C') #'NA'\n",
    "z=dict.fromkeys(x,y)\n",
    "print(z)"
   ]
  },
  {
   "cell_type": "code",
   "execution_count": null,
   "metadata": {},
   "outputs": [],
   "source": [
    "# pop(): Removes the element with the specified key\n",
    "print(d1)\n",
    "d1.pop('Name')\n",
    "print(d1)"
   ]
  },
  {
   "cell_type": "code",
   "execution_count": null,
   "metadata": {},
   "outputs": [],
   "source": [
    "# popitem(): Removes the last inserted key-value pair\n",
    "print(d1)\n",
    "d1.popitem()\n",
    "print(d1)"
   ]
  },
  {
   "cell_type": "code",
   "execution_count": null,
   "metadata": {},
   "outputs": [],
   "source": [
    "# setdefault(): Returns the value of the specified key. \n",
    "# If the key does not exist: insert the key, with the specified value\n",
    "d1={'Name': 'Ankit', 'Class': '12th', 'Roll No.': 25, 'Result': 'Pass'}\n",
    "print(d1)\n",
    "d2=d1.setdefault(\"Class\")\n",
    "print(d2)\n",
    "d3=d1.setdefault(\"Location\",'Pune')\n",
    "print(d3)"
   ]
  },
  {
   "cell_type": "code",
   "execution_count": null,
   "metadata": {},
   "outputs": [],
   "source": [
    "d1"
   ]
  },
  {
   "cell_type": "code",
   "execution_count": null,
   "metadata": {},
   "outputs": [],
   "source": [
    "# update(): Updates the dictionary with the specified key-value pairs\n",
    "print(d1)\n",
    "d1.update({\"Division\":\"A\"})\n",
    "print(d1)"
   ]
  },
  {
   "cell_type": "code",
   "execution_count": null,
   "metadata": {},
   "outputs": [],
   "source": [
    "d1.update({\"Gender\":'M',\"Age\":19})\n",
    "print(d1)"
   ]
  },
  {
   "cell_type": "code",
   "execution_count": null,
   "metadata": {},
   "outputs": [],
   "source": [
    "d3 = d1.copy()\n",
    "print(d3)"
   ]
  },
  {
   "cell_type": "code",
   "execution_count": null,
   "metadata": {},
   "outputs": [],
   "source": [
    "d3.update({'XYZ':446})\n",
    "print(d3)\n",
    "print(d1)"
   ]
  },
  {
   "cell_type": "code",
   "execution_count": null,
   "metadata": {},
   "outputs": [],
   "source": [
    "d4 = d1\n",
    "print(d4)"
   ]
  },
  {
   "cell_type": "code",
   "execution_count": null,
   "metadata": {},
   "outputs": [],
   "source": [
    "d4.update({'xyz':454})\n",
    "print(d4)\n",
    "print(d1)"
   ]
  },
  {
   "cell_type": "code",
   "execution_count": null,
   "metadata": {},
   "outputs": [],
   "source": []
  },
  {
   "cell_type": "code",
   "execution_count": null,
   "metadata": {},
   "outputs": [],
   "source": []
  },
  {
   "cell_type": "code",
   "execution_count": null,
   "metadata": {},
   "outputs": [],
   "source": []
  },
  {
   "cell_type": "code",
   "execution_count": null,
   "metadata": {},
   "outputs": [],
   "source": []
  },
  {
   "cell_type": "code",
   "execution_count": null,
   "metadata": {},
   "outputs": [],
   "source": []
  },
  {
   "cell_type": "markdown",
   "metadata": {},
   "source": [
    "Basics of Python Programming\n",
    "\n",
    "1. \tBelow is a part of a DNA sequence. Copy that to python in a variable named as ‘DNA’. \n",
    "    \n",
    "    a.\tWhat is the length of the sequence?\n",
    "    \n",
    "    b.\tWrite a code that replaces specified name like A or C from sequence by         some number.\n",
    "    \n",
    "    c. Split the DNA sequence so we can have each character as new entry.\n",
    " \n",
    " 'CCAGCAGCTCCTTGCCGAGATGGGATTCGGTTATCTTGCCTTTGAAAAAATCCAGGTAACCTTCCGCATCATCGCTCGCCCGACCGACGGCCTCCACGAATGCCGATTTGCCAACGGTGTTCACACTGCGGATATAAAAGTAATAATCATGGCCCGGTTTGATATTGATACTGGCGGCTATCCAGTACAGCGCCGTACCAAGATAA'"
   ]
  },
  {
   "cell_type": "code",
   "execution_count": null,
   "metadata": {},
   "outputs": [],
   "source": [
    "y = 'CCAGCAGCTCCTTGCCGAGATGGGATTCGGTTATCTTGCCTTTGAAAAAATCCAGGTAACCTTCCGCATCATCGCTCGCCCGACCGACGGCCTCCACGAATGCCGATTTGCCAACGGTGTTCACACTGCGGATATAAAAGTAATAATCATGGCCCGGTTTGATATTGATACTGGCGGCTATCCAGTACAGCGCCGTACCAAGATAA'"
   ]
  },
  {
   "cell_type": "code",
   "execution_count": null,
   "metadata": {},
   "outputs": [],
   "source": [
    "print(len(y))"
   ]
  },
  {
   "cell_type": "code",
   "execution_count": null,
   "metadata": {},
   "outputs": [],
   "source": [
    "print(y.replace('A','1'))"
   ]
  },
  {
   "cell_type": "code",
   "execution_count": null,
   "metadata": {},
   "outputs": [],
   "source": [
    "y.split()"
   ]
  },
  {
   "cell_type": "code",
   "execution_count": null,
   "metadata": {},
   "outputs": [],
   "source": [
    "Y = list(y)\n",
    "len(Y)"
   ]
  },
  {
   "cell_type": "code",
   "execution_count": null,
   "metadata": {},
   "outputs": [],
   "source": [
    "type(Y)"
   ]
  },
  {
   "cell_type": "code",
   "execution_count": null,
   "metadata": {},
   "outputs": [],
   "source": []
  }
 ],
 "metadata": {
  "kernelspec": {
   "display_name": "Python 3",
   "language": "python",
   "name": "python3"
  },
  "language_info": {
   "codemirror_mode": {
    "name": "ipython",
    "version": 3
   },
   "file_extension": ".py",
   "mimetype": "text/x-python",
   "name": "python",
   "nbconvert_exporter": "python",
   "pygments_lexer": "ipython3",
   "version": "3.8.5"
  }
 },
 "nbformat": 4,
 "nbformat_minor": 2
}
